{
 "cells": [
  {
   "cell_type": "markdown",
   "metadata": {
    "collapsed": true
   },
   "source": [
    "# Peer-graded Assignment: Capstone Project - The Battle of Neighbourhoods (Week 1)"
   ]
  },
  {
   "cell_type": "markdown",
   "metadata": {},
   "source": [
    "## Introduction"
   ]
  },
  {
   "cell_type": "markdown",
   "metadata": {},
   "source": [
    "This in the introductory section of the final assignment of [IBM Applied Data Science Capstone course on Coursera](https://www.coursera.org/learn/applied-data-science-capstone). Here, the students are asked to be as creative as they want to implement Foursquare API and clustering algorithm to explore or compare neighbourhoods or cities of their choice. Based on these instructions, __I have decided to compare the neighbourhoods of New York in order to find out which place is the best to open a restaurant__."
   ]
  },
  {
   "cell_type": "markdown",
   "metadata": {},
   "source": [
    "### Background"
   ]
  },
  {
   "cell_type": "markdown",
   "metadata": {},
   "source": [
    "In this part, a small background has been given below on both New York and Toronto\n",
    "\n",
    "New York City (NYC), often called The City or simply New York (NY), is the most populous city in the United States. With an estimated 2019 population of 8,336,817 distributed over about 302.6 square miles (784 km2), New York is also the most densely populated major city in the United States. Located at the southern tip of the U.S. state of New York, the city is the center of the New York metropolitan area, the largest metropolitan area in the world by urban landmass. With almost 20 million people in its metropolitan statistical area and approximately 23 million in its combined statistical area, it is one of the world's most populous megacities. New York City has been described as the cultural, financial, and media capital of the world, significantly influencing commerce, entertainment, research, technology, education, politics, tourism, art, fashion, and sports. Home to the headquarters of the United Nations, New York is an important center for international diplomacy [[1]](https://en.wikipedia.org/wiki/New_York_City)\n",
    "\n",
    "\n",
    "\n",
    "\n"
   ]
  },
  {
   "cell_type": "markdown",
   "metadata": {},
   "source": [
    "### Business problem and who this project is aimed at"
   ]
  },
  {
   "cell_type": "markdown",
   "metadata": {},
   "source": [
    "Comparing neighbourhoods of such big cities can be quite daunting due to their cosmopolitan and extremely busy lifestyles. However, this project aims to be of use to you through the analysis and comparison of the neighbourhoods in NYC. The people who can hope to benefit from this project are\n",
    "\n",
    "- Those who are planning to migrate to New York City\n",
    "- A New Yorker trying to change neighbourhoods to find a more happening area\n",
    "- Those who would like to expand or open their businesses in NYC"
   ]
  },
  {
   "cell_type": "markdown",
   "metadata": {},
   "source": [
    "### Aim and Objectives"
   ]
  },
  {
   "cell_type": "markdown",
   "metadata": {},
   "source": [
    "This project aims to compare the neighbourhoods of NYC based on crime rates, rent data, and other similarities. In order to satisfy the criteria, the following will be the immediate objectives:\n",
    "- Collecting crime rate data in NYC \n",
    "- Collecting venues data in NYC \n",
    "- Clustering the neighbourhoods based on their similarities \n",
    "- Making a few key recommendations regarding the business opportunities in New York\n"
   ]
  },
  {
   "cell_type": "markdown",
   "metadata": {},
   "source": [
    "### Data Acquisition"
   ]
  },
  {
   "cell_type": "markdown",
   "metadata": {},
   "source": [
    "In order to meet the aim and objectives, we need at least the following data:\n",
    "- Rent data\n",
    "- Crime rate data\n",
    "- Venue data\n",
    "\n",
    "For weather and crime rate data, the data will be obtained from the official data history of NYC. For the data regarding nearby venues in the neighbourhoods, this project will use Foursquare API(https://developer.foursquare.com/).\n",
    "\n",
    "This project will use the  crime rate, and venues data from NYC to cluster its neighbourhoods.  \n"
   ]
  }
 ],
 "metadata": {
  "kernelspec": {
   "display_name": "Python 3.6",
   "language": "python",
   "name": "python3"
  },
  "language_info": {
   "codemirror_mode": {
    "name": "ipython",
    "version": 3
   },
   "file_extension": ".py",
   "mimetype": "text/x-python",
   "name": "python",
   "nbconvert_exporter": "python",
   "pygments_lexer": "ipython3",
   "version": "3.6.9"
  }
 },
 "nbformat": 4,
 "nbformat_minor": 1
}
